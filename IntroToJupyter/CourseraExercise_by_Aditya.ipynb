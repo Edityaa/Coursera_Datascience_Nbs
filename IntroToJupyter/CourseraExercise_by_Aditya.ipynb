{
  "nbformat": 4,
  "nbformat_minor": 0,
  "metadata": {
    "colab": {
      "provenance": []
    },
    "kernelspec": {
      "name": "python3",
      "display_name": "Python 3"
    },
    "language_info": {
      "name": "python"
    }
  },
  "cells": [
    {
      "cell_type": "markdown",
      "source": [
        "# CourseraExercise_by_Aditya"
      ],
      "metadata": {
        "id": "avZANsdabEwh"
      }
    },
    {
      "cell_type": "markdown",
      "source": [
        "## Introduction\n",
        "- Points"
      ],
      "metadata": {
        "id": "pgFy9gOrbMUc"
      }
    },
    {
      "cell_type": "markdown",
      "source": [
        "## Data Science Languages\n",
        "- SQL\n",
        "- R\n",
        "-Python"
      ],
      "metadata": {
        "id": "u9U0YwtBbPXq"
      }
    },
    {
      "cell_type": "markdown",
      "source": [
        "## Data SCience Libraries\n",
        "- ggplot\n",
        "- pandas\n",
        "- matplotlib\n",
        "- seaborn\n",
        "- NumPy"
      ],
      "metadata": {
        "id": "JKSC6PeIbXmA"
      }
    },
    {
      "cell_type": "markdown",
      "source": [
        "## Data SCience Tools\n",
        "- Tableau\n",
        "- Power BI\n",
        "- Apace Spark\n",
        "- SQL\n",
        "- Apache Kafka\n",
        "- Python with Data Science Libraries like Pandas\n",
        "- R\n",
        "- Excel\n",
        "- Apache Hadoop"
      ],
      "metadata": {
        "id": "1BaSyRICbosa"
      }
    },
    {
      "cell_type": "markdown",
      "source": [
        "## Arithmetic Operations\n",
        "- Addition Eg:- 1+2 = 3\n",
        "- Subtraction Eg:- 4-2 = 2\n",
        "- Multiplication Eg:- 1*2 = 2\n",
        "- Division Eg:- 4/2 = 2\n"
      ],
      "metadata": {
        "id": "Vy_MY67JcJq1"
      }
    },
    {
      "cell_type": "code",
      "execution_count": 1,
      "metadata": {
        "id": "pjaqhvvKapdo",
        "colab": {
          "base_uri": "https://localhost:8080/"
        },
        "outputId": "1e0bd8a6-a323-44ea-dd01-f95752dc9c40"
      },
      "outputs": [
        {
          "output_type": "execute_result",
          "data": {
            "text/plain": [
              "(5, 6)"
            ]
          },
          "metadata": {},
          "execution_count": 1
        }
      ],
      "source": [
        "# Multiply and add two Numbers\n",
        "2+3 , 2*3"
      ]
    },
    {
      "cell_type": "code",
      "source": [
        "# Create a code cell to convert minutes to hours\n",
        "minutes = 3\n",
        "f'Seconds are :: {3*60} '"
      ],
      "metadata": {
        "colab": {
          "base_uri": "https://localhost:8080/",
          "height": 35
        },
        "id": "rC6L6jTFcwTF",
        "outputId": "d0712f5c-b2e9-4a7f-a350-b19734b57b1f"
      },
      "execution_count": 3,
      "outputs": [
        {
          "output_type": "execute_result",
          "data": {
            "text/plain": [
              "'Seconds are :: 180 '"
            ],
            "application/vnd.google.colaboratory.intrinsic+json": {
              "type": "string"
            }
          },
          "metadata": {},
          "execution_count": 3
        }
      ]
    },
    {
      "cell_type": "markdown",
      "source": [
        "## Objectives\n",
        "- To Explore and Know ABout the tools USed in Data Science\n",
        "- To know about the Version Control and code Control Platforms like git\n",
        "- Know about tools like r and r studio, python"
      ],
      "metadata": {
        "id": "aBc2dEe6dH-u"
      }
    },
    {
      "cell_type": "markdown",
      "source": [
        "Authors name- Aditya Kumar"
      ],
      "metadata": {
        "id": "rOGeXXlodLaK"
      }
    }
  ]
}